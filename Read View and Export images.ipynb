{
 "cells": [
  {
   "cell_type": "code",
   "execution_count": null,
   "id": "c15525cb-33d9-45bd-8d2f-2a26db5d117a",
   "metadata": {},
   "outputs": [],
   "source": [
    "# 1 import dependencies"
   ]
  },
  {
   "cell_type": "code",
   "execution_count": 2,
   "id": "bc70306e-a8b3-44b4-9a7c-70fc5d71b411",
   "metadata": {},
   "outputs": [],
   "source": [
    "import cv2\n",
    "import os #allows us to work with the operating system in which we are working"
   ]
  },
  {
   "cell_type": "code",
   "execution_count": 3,
   "id": "9dfe0457-b2dd-4f62-b47d-88f22cb1e77b",
   "metadata": {},
   "outputs": [
    {
     "ename": "SyntaxError",
     "evalue": "incomplete input (3069362907.py, line 2)",
     "output_type": "error",
     "traceback": [
      "\u001b[1;36m  Cell \u001b[1;32mIn[3], line 2\u001b[1;36m\u001b[0m\n\u001b[1;33m    imagepath = os.path.join(\u001b[0m\n\u001b[1;37m                             ^\u001b[0m\n\u001b[1;31mSyntaxError\u001b[0m\u001b[1;31m:\u001b[0m incomplete input\n"
     ]
    }
   ],
   "source": [
    "#Read an Image\n",
    "imagepath = os.path.join(C:\\Users\\adity\\Desktop\\Ireland\\Projects\\Computer Vision\\Celebrity face Image Dataset\\Celebrity Faces Dataset\\Angelina Jolie)"
   ]
  },
  {
   "cell_type": "code",
   "execution_count": null,
   "id": "d28c7ea8-3774-4f72-8557-49cdcc283f8e",
   "metadata": {},
   "outputs": [],
   "source": []
  }
 ],
 "metadata": {
  "kernelspec": {
   "display_name": "Python 3 (ipykernel)",
   "language": "python",
   "name": "python3"
  },
  "language_info": {
   "codemirror_mode": {
    "name": "ipython",
    "version": 3
   },
   "file_extension": ".py",
   "mimetype": "text/x-python",
   "name": "python",
   "nbconvert_exporter": "python",
   "pygments_lexer": "ipython3",
   "version": "3.11.7"
  }
 },
 "nbformat": 4,
 "nbformat_minor": 5
}
